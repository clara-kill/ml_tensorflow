{
 "cells": [
  {
   "cell_type": "markdown",
   "id": "c04de444",
   "metadata": {},
   "source": [
    "# Inidivudal ML Transfer Learning Assignment"
   ]
  },
  {
   "cell_type": "markdown",
   "id": "0af6cb23",
   "metadata": {},
   "source": [
    "**Name**: Clara Killeen"
   ]
  },
  {
   "cell_type": "code",
   "execution_count": null,
   "id": "86de857b",
   "metadata": {},
   "outputs": [],
   "source": []
  }
 ],
 "metadata": {
  "kernelspec": {
   "display_name": "Python 3 (ipykernel)",
   "language": "python",
   "name": "python3"
  },
  "language_info": {
   "codemirror_mode": {
    "name": "ipython",
    "version": 3
   },
   "file_extension": ".py",
   "mimetype": "text/x-python",
   "name": "python",
   "nbconvert_exporter": "python",
   "pygments_lexer": "ipython3",
   "version": "3.9.9"
  }
 },
 "nbformat": 4,
 "nbformat_minor": 5
}
